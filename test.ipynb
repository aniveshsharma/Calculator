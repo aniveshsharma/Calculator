{
 "cells": [
  {
   "cell_type": "code",
   "execution_count": 135,
   "metadata": {},
   "outputs": [],
   "source": [
    "import customtkinter\n",
    "import tkinter"
   ]
  },
  {
   "cell_type": "code",
   "execution_count": 137,
   "metadata": {},
   "outputs": [
    {
     "ename": "KeyboardInterrupt",
     "evalue": "",
     "output_type": "error",
     "traceback": [
      "\u001b[1;31m---------------------------------------------------------------------------\u001b[0m",
      "\u001b[1;31mKeyboardInterrupt\u001b[0m                         Traceback (most recent call last)",
      "Cell \u001b[1;32mIn[137], line 73\u001b[0m\n\u001b[0;32m     67\u001b[0m divide \u001b[38;5;241m=\u001b[39m customtkinter\u001b[38;5;241m.\u001b[39mCTkButton(master\u001b[38;5;241m=\u001b[39mframe,text\u001b[38;5;241m=\u001b[39m\u001b[38;5;124m\"\u001b[39m\u001b[38;5;124m/\u001b[39m\u001b[38;5;124m\"\u001b[39m,font\u001b[38;5;241m=\u001b[39m(\u001b[38;5;124m\"\u001b[39m\u001b[38;5;124mserif\u001b[39m\u001b[38;5;124m\"\u001b[39m,\u001b[38;5;241m20\u001b[39m,\u001b[38;5;124m\"\u001b[39m\u001b[38;5;124mbold\u001b[39m\u001b[38;5;124m\"\u001b[39m),width\u001b[38;5;241m=\u001b[39m\u001b[38;5;241m65\u001b[39m,height\u001b[38;5;241m=\u001b[39m\u001b[38;5;241m35\u001b[39m,command\u001b[38;5;241m=\u001b[39m\u001b[38;5;28;01mlambda\u001b[39;00m: show(\u001b[38;5;124m\"\u001b[39m\u001b[38;5;124m/\u001b[39m\u001b[38;5;124m\"\u001b[39m))\u001b[38;5;241m.\u001b[39mplace(x\u001b[38;5;241m=\u001b[39m\u001b[38;5;241m240\u001b[39m,y\u001b[38;5;241m=\u001b[39m\u001b[38;5;241m350\u001b[39m)\n\u001b[0;32m     68\u001b[0m Enter \u001b[38;5;241m=\u001b[39m customtkinter\u001b[38;5;241m.\u001b[39mCTkButton(master\u001b[38;5;241m=\u001b[39mframe,text\u001b[38;5;241m=\u001b[39m\u001b[38;5;124m\"\u001b[39m\u001b[38;5;124mEnter\u001b[39m\u001b[38;5;124m\"\u001b[39m,font\u001b[38;5;241m=\u001b[39m(\u001b[38;5;124m\"\u001b[39m\u001b[38;5;124mserif\u001b[39m\u001b[38;5;124m\"\u001b[39m,\u001b[38;5;241m20\u001b[39m,\u001b[38;5;124m\"\u001b[39m\u001b[38;5;124mbold\u001b[39m\u001b[38;5;124m\"\u001b[39m),width\u001b[38;5;241m=\u001b[39m\u001b[38;5;241m290\u001b[39m,height\u001b[38;5;241m=\u001b[39m\u001b[38;5;241m35\u001b[39m,command\u001b[38;5;241m=\u001b[39m\u001b[38;5;28;01mlambda\u001b[39;00m: calculate())\u001b[38;5;241m.\u001b[39mplace(x\u001b[38;5;241m=\u001b[39m\u001b[38;5;241m15\u001b[39m,y\u001b[38;5;241m=\u001b[39m\u001b[38;5;241m400\u001b[39m)\n\u001b[1;32m---> 73\u001b[0m \u001b[43mroot\u001b[49m\u001b[38;5;241;43m.\u001b[39;49m\u001b[43mmainloop\u001b[49m\u001b[43m(\u001b[49m\u001b[43m)\u001b[49m\n",
      "File \u001b[1;32mc:\\Users\\Anivesh\\anaconda3\\envs\\calculator\\Lib\\site-packages\\customtkinter\\windows\\ctk_tk.py:165\u001b[0m, in \u001b[0;36mCTk.mainloop\u001b[1;34m(self, *args, **kwargs)\u001b[0m\n\u001b[0;32m    161\u001b[0m             \u001b[38;5;28mself\u001b[39m\u001b[38;5;241m.\u001b[39mdeiconify()\n\u001b[0;32m    163\u001b[0m     \u001b[38;5;28mself\u001b[39m\u001b[38;5;241m.\u001b[39m_window_exists \u001b[38;5;241m=\u001b[39m \u001b[38;5;28;01mTrue\u001b[39;00m\n\u001b[1;32m--> 165\u001b[0m \u001b[38;5;28;43msuper\u001b[39;49m\u001b[43m(\u001b[49m\u001b[43m)\u001b[49m\u001b[38;5;241;43m.\u001b[39;49m\u001b[43mmainloop\u001b[49m\u001b[43m(\u001b[49m\u001b[38;5;241;43m*\u001b[39;49m\u001b[43margs\u001b[49m\u001b[43m,\u001b[49m\u001b[43m \u001b[49m\u001b[38;5;241;43m*\u001b[39;49m\u001b[38;5;241;43m*\u001b[39;49m\u001b[43mkwargs\u001b[49m\u001b[43m)\u001b[49m\n",
      "File \u001b[1;32mc:\\Users\\Anivesh\\anaconda3\\envs\\calculator\\Lib\\tkinter\\__init__.py:1505\u001b[0m, in \u001b[0;36mMisc.mainloop\u001b[1;34m(self, n)\u001b[0m\n\u001b[0;32m   1503\u001b[0m \u001b[38;5;28;01mdef\u001b[39;00m \u001b[38;5;21mmainloop\u001b[39m(\u001b[38;5;28mself\u001b[39m, n\u001b[38;5;241m=\u001b[39m\u001b[38;5;241m0\u001b[39m):\n\u001b[0;32m   1504\u001b[0m \u001b[38;5;250m    \u001b[39m\u001b[38;5;124;03m\"\"\"Call the mainloop of Tk.\"\"\"\u001b[39;00m\n\u001b[1;32m-> 1505\u001b[0m     \u001b[38;5;28;43mself\u001b[39;49m\u001b[38;5;241;43m.\u001b[39;49m\u001b[43mtk\u001b[49m\u001b[38;5;241;43m.\u001b[39;49m\u001b[43mmainloop\u001b[49m\u001b[43m(\u001b[49m\u001b[43mn\u001b[49m\u001b[43m)\u001b[49m\n",
      "\u001b[1;31mKeyboardInterrupt\u001b[0m: "
     ]
    }
   ],
   "source": [
    "customtkinter.set_appearance_mode(\"light\")\n",
    "customtkinter.set_default_color_theme(\"dark-blue\")\n",
    "\n",
    "root = customtkinter.CTk()\n",
    "root.resizable(False,False)\n",
    "root.geometry(\"385x490\")\n",
    "\n",
    "equation = \"\"\n",
    "\n",
    "def Calculator():\n",
    "    pass\n",
    "\n",
    "def show(value):\n",
    "    global equation\n",
    "    equation+=value\n",
    "    display.config(text=equation)\n",
    "\n",
    "def clear():\n",
    "    global equation\n",
    "    equation=\"\"\n",
    "    display.config(text=equation)\n",
    "\n",
    "def clear_all():\n",
    "    global equation\n",
    "    equation=\"\"\n",
    "    display.config(text=equation)\n",
    "\n",
    "def calculate():\n",
    "    global equation\n",
    "    result = \"\"\n",
    "    if equation != \"\":\n",
    "        try:\n",
    "            result=eval(equation)\n",
    "        except:\n",
    "            result=\"error\"\n",
    "            equation=\"\"\n",
    "        display.config(text=result)\n",
    "\n",
    "frame = customtkinter.CTkFrame(master=root)\n",
    "frame.pack(pady=20,padx=30,fill=\"both\", expand=True)\n",
    "\n",
    "label = customtkinter.CTkLabel(master=frame,text=\"Calculator\", font=(\"serif\",24,\"bold\"),text_color=\"green\")\n",
    "label.pack(padx=10,pady=20)\n",
    "\n",
    "display = tkinter.Label(master=frame,text=\"\",width=45,height=2,font=(\"serif\",20,\"bold\"),bg=\"white\")\n",
    "display.pack(padx=10,pady=2)\n",
    "\n",
    "percent = customtkinter.CTkButton(master=frame , text = \"%\" ,font=(\"serif\",20,\"bold\"),width=65,height=35,command=lambda: show(\"%\")).place(x=15,y=150)\n",
    "clear = customtkinter.CTkButton(master=frame , text = \"CE\" ,font=(\"serif\",20,\"bold\"),width=65,height=35,command=lambda: clear()).place(x=90,y=150)\n",
    "clear_all = customtkinter.CTkButton(master=frame , text = \"C\" ,font=(\"serif\",20,\"bold\"),width=65,height=35,command=lambda:clear()).place(x=165,y=150)\n",
    "delete = customtkinter.CTkButton(master=frame , text = \"Del\" ,font=(\"serif\",20,\"bold\"),width=65,height=35,command=lambda: clear()).place(x=240,y=150)\n",
    "one = customtkinter.CTkButton(master=frame , text = \"1\" ,font=(\"serif\",20,\"bold\"),width=65,height=35,command=lambda: show(\"1\")).place(x=15,y=200)\n",
    "two = customtkinter.CTkButton(master=frame , text = \"2\" ,font=(\"serif\",20,\"bold\"),width=65,height=35,command=lambda: show(\"2\")).place(x=90,y=200)\n",
    "three = customtkinter.CTkButton(master=frame , text = \"3\" ,font=(\"serif\",20,\"bold\"),width=65,height=35,command=lambda: show(\"3\")).place(x=165,y=200)\n",
    "add = customtkinter.CTkButton(master=frame , text = \"+\" ,font=(\"serif\",20,\"bold\"),width=65,height=35,command=lambda: show(\"+\")).place(x=240,y=200)\n",
    "four = customtkinter.CTkButton(master=frame , text = \"4\" ,font=(\"serif\",20,\"bold\"),width=65,height=35,command=lambda: show(\"4\")).place(x=15,y=250)\n",
    "five = customtkinter.CTkButton(master=frame , text = \"5\" ,font=(\"serif\",20,\"bold\"),width=65,height=35,command=lambda: show(\"5\")).place(x=90,y=250)\n",
    "six = customtkinter.CTkButton(master=frame , text = \"6\" ,font=(\"serif\",20,\"bold\"),width=65,height=35,command=lambda: show(\"6\")).place(x=165,y=250)\n",
    "sub = customtkinter.CTkButton(master=frame,text=\"-\",font=(\"serif\",20,\"bold\"),width=65,height=30,command=lambda: show(\"-\")).place(x=240,y=250)\n",
    "seven = customtkinter.CTkButton(master=frame , text = \"7\" ,font=(\"serif\",20,\"bold\"),width=65,height=35,command=lambda: show(\"7\")).place(x=15,y=300)\n",
    "eight = customtkinter.CTkButton(master=frame , text = \"8\" ,font=(\"serif\",20,\"bold\"),width=65,height=35,command=lambda: show(\"8\")).place(x=90,y=300)\n",
    "nine = customtkinter.CTkButton(master=frame , text = \"9\" ,font=(\"serif\",20,\"bold\"),width=65,height=35,command=lambda: show(\"9\")).place(x=165,y=300)\n",
    "multiply = customtkinter.CTkButton(master=frame,text=\"*\",font=(\"serif\",20,\"bold\"),width=65,height=35,command=lambda: show(\"*\")).place(x=240,y=300)\n",
    "zero = customtkinter.CTkButton(master=frame , text = \"0\" ,font=(\"serif\",20,\"bold\"),width=65,height=35,command=lambda: show(\"0\")).place(x=15,y=350)\n",
    "negative = customtkinter.CTkButton(master=frame,text=\"+/-\",font=(\"serif\",20,\"bold\"),width=65,height=35,command=lambda: show(\"-\")).place(x=90,y=350)\n",
    "decimal = customtkinter.CTkButton(master=frame,text=\".\",font=(\"serif\",20,\"bold\"),width=65,height=35,command=lambda: show(\".\")).place(x=165,y=350)\n",
    "divide = customtkinter.CTkButton(master=frame,text=\"/\",font=(\"serif\",20,\"bold\"),width=65,height=35,command=lambda: show(\"/\")).place(x=240,y=350)\n",
    "Enter = customtkinter.CTkButton(master=frame,text=\"Enter\",font=(\"serif\",20,\"bold\"),width=290,height=35,command=lambda: calculate()).place(x=15,y=400)\n",
    "\n",
    "\n",
    "\n",
    "\n",
    "root.mainloop()"
   ]
  },
  {
   "cell_type": "code",
   "execution_count": null,
   "metadata": {},
   "outputs": [],
   "source": []
  },
  {
   "cell_type": "code",
   "execution_count": null,
   "metadata": {},
   "outputs": [],
   "source": []
  }
 ],
 "metadata": {
  "kernelspec": {
   "display_name": "calculator",
   "language": "python",
   "name": "python3"
  },
  "language_info": {
   "codemirror_mode": {
    "name": "ipython",
    "version": 3
   },
   "file_extension": ".py",
   "mimetype": "text/x-python",
   "name": "python",
   "nbconvert_exporter": "python",
   "pygments_lexer": "ipython3",
   "version": "3.12.4"
  }
 },
 "nbformat": 4,
 "nbformat_minor": 2
}
